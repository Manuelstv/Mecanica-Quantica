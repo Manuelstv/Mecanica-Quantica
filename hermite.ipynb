{
  "nbformat": 4,
  "nbformat_minor": 0,
  "metadata": {
    "colab": {
      "name": "hermite.ipynb",
      "provenance": [],
      "collapsed_sections": [],
      "authorship_tag": "ABX9TyMI3AT5NkVbOI63N9DFajD9",
      "include_colab_link": true
    },
    "kernelspec": {
      "name": "python3",
      "display_name": "Python 3"
    }
  },
  "cells": [
    {
      "cell_type": "markdown",
      "metadata": {
        "id": "view-in-github",
        "colab_type": "text"
      },
      "source": [
        "<a href=\"https://colab.research.google.com/github/Manuelstv/mecanica-quantica/blob/main/hermite.ipynb\" target=\"_parent\"><img src=\"https://colab.research.google.com/assets/colab-badge.svg\" alt=\"Open In Colab\"/></a>"
      ]
    },
    {
      "cell_type": "code",
      "metadata": {
        "id": "3qBVCmi1dI3g"
      },
      "source": [
        "import numpy as np\n",
        "import matplotlib.pyplot as plt\n",
        "from numpy import linalg as LA"
      ],
      "execution_count": null,
      "outputs": []
    },
    {
      "cell_type": "code",
      "metadata": {
        "colab": {
          "base_uri": "https://localhost:8080/"
        },
        "id": "RtvWm4l5d0bn",
        "outputId": "a271f082-9104-4573-b7ef-d172a0c47617"
      },
      "source": [
        "#definição de uma matriz hermitiana 3x3\n",
        "A = np.array([[150,20+1j,4],[20-1j,50,1j],[4,-1j,100]])\n",
        "print(A)"
      ],
      "execution_count": null,
      "outputs": [
        {
          "output_type": "stream",
          "text": [
            "[[150.+0.j  20.+1.j   4.+0.j]\n",
            " [ 20.-1.j  50.+0.j   0.+1.j]\n",
            " [  4.+0.j  -0.-1.j 100.+0.j]]\n"
          ],
          "name": "stdout"
        }
      ]
    },
    {
      "cell_type": "code",
      "metadata": {
        "id": "-jBALhkbeE5n"
      },
      "source": [
        "#foi utilizada uma funçãão do numpy para calcular os autovalores e autovetores de uma matriz hermitiana\n",
        "#eigh pois a matriz é hermitiana\n",
        "eigvals, eigvecs = LA.eigh(A)"
      ],
      "execution_count": null,
      "outputs": []
    },
    {
      "cell_type": "code",
      "metadata": {
        "colab": {
          "base_uri": "https://localhost:8080/"
        },
        "id": "Hw4txHMBeP8F",
        "outputId": "ba8cfaae-2fa8-4a98-9fed-954d835b5dbc"
      },
      "source": [
        "print(\"podemos ver que os autovalores são numeros reais:\", eigvals)"
      ],
      "execution_count": null,
      "outputs": [
        {
          "output_type": "stream",
          "text": [
            "podemos ver que os autovalores são numeros reais: [ 46.10907825  99.74571061 154.14521114]\n"
          ],
          "name": "stdout"
        }
      ]
    },
    {
      "cell_type": "code",
      "metadata": {
        "id": "tZMcRzOTfq2G"
      },
      "source": [
        "v1 = eigvecs[:,0]\n",
        "v2 = eigvecs[:,1]\n",
        "v3 = eigvecs[:,2]"
      ],
      "execution_count": null,
      "outputs": []
    },
    {
      "cell_type": "code",
      "metadata": {
        "colab": {
          "base_uri": "https://localhost:8080/"
        },
        "id": "Z41-1Cu99Cya",
        "outputId": "377de28d-c630-4c7b-dadd-b5a0b0e6ed4f"
      },
      "source": [
        "#A*autovetor -lambda*autovetor =0\n",
        "print(np.around(np.dot(A, eigvecs[:, 0]) - eigvals[0] * eigvecs[:, 0],10))\n",
        "print(np.around(np.dot(A, eigvecs[:, 1]) - eigvals[1] * eigvecs[:, 1],10))\n",
        "print(np.around(np.dot(A, eigvecs[:, 2]) - eigvals[2] * eigvecs[:, 2],10))\n",
        "#podemos conferir aqui que as constantes e vetores encontrados são de fato autovalores e autovetores"
      ],
      "execution_count": null,
      "outputs": [
        {
          "output_type": "stream",
          "text": [
            "[ 0.+0.j -0.+0.j  0.-0.j]\n",
            "[ 0.-0.j -0.+0.j  0.-0.j]\n",
            "[0.-0.j 0.-0.j 0.-0.j]\n"
          ],
          "name": "stdout"
        }
      ]
    },
    {
      "cell_type": "markdown",
      "metadata": {
        "id": "n1BKf2GAA8Yz"
      },
      "source": [
        "Ortonormalidade; é importante lembrar que as soluções encontradas são apenas aproximações e não soluções exatas. Assim, os autovetores são apenas \"aproximadamente ortonormais\"\n"
      ]
    },
    {
      "cell_type": "code",
      "metadata": {
        "colab": {
          "base_uri": "https://localhost:8080/"
        },
        "id": "fJIkt4uv_bq3",
        "outputId": "9e7497a2-090c-4f71-f27e-20995005e40e"
      },
      "source": [
        "#ortogonalidade\n",
        "print(v1@v2)\n",
        "print(v2@v3)\n",
        "print(v1@v3)"
      ],
      "execution_count": null,
      "outputs": [
        {
          "output_type": "stream",
          "text": [
            "(-0.005889808599606328-0.03876883151342294j)\n",
            "(-0.0003249860507594617-0.006449708984512579j)\n",
            "(0.0007908210254144496+0.017181238844271866j)\n"
          ],
          "name": "stdout"
        }
      ]
    },
    {
      "cell_type": "code",
      "metadata": {
        "colab": {
          "base_uri": "https://localhost:8080/"
        },
        "id": "fUBt2P3SCZhI",
        "outputId": "a5746abd-1988-4333-8710-e10bea369ade"
      },
      "source": [
        "#vetores são normais\n",
        "print(np.sqrt(v1@v1))\n",
        "print(np.sqrt(v2@v2))\n",
        "print(np.sqrt(v3@v3))"
      ],
      "execution_count": null,
      "outputs": [
        {
          "output_type": "stream",
          "text": [
            "(0.9982180287920532-0.05141575755002745j)\n",
            "(0.9945387073998534-0.10051238314402292j)\n",
            "(0.9999138222512809-0.0018898317501270462j)\n"
          ],
          "name": "stdout"
        }
      ]
    },
    {
      "cell_type": "code",
      "metadata": {
        "id": "GFZP22NUqLYp",
        "colab": {
          "base_uri": "https://localhost:8080/"
        },
        "outputId": "6d4ac188-f62e-4c19-c9da-8afda971e9ca"
      },
      "source": [
        "print(\"Autovetor 1:\", v1)\n",
        "print(\"\\nAutovetor 2:\", v2)\n",
        "print(\"\\nAutovetor 3:\", v3)"
      ],
      "execution_count": null,
      "outputs": [
        {
          "output_type": "stream",
          "text": [
            "Autovetor 1: [-0.18977138+0.j          0.98013151-0.05264404j  0.01506245+0.01818732j]\n",
            "\n",
            "Autovetor 2: [ 0.06839668+0.j          0.02548395-0.02131747j -0.9920558 +0.10021634j]\n",
            "\n",
            "Autovetor 3: [-0.97944306+0.j         -0.18812517+0.00871137j -0.07219587+0.00347446j]\n"
          ],
          "name": "stdout"
        }
      ]
    }
  ]
}